{
 "cells": [
  {
   "cell_type": "code",
   "execution_count": null,
   "metadata": {
    "graffitiCellId": "id_6omzx4c",
    "graffitiConfig": {
     "executeCellViaGraffiti": "igmn9j0_fmhuit3"
    }
   },
   "outputs": [],
   "source": [
    "#include <assert.h>\n",
    "#include <string>\n",
    "\n",
    "class Animal {\n",
    "public:\n",
    "  virtual std::string Talk() const = 0;\n",
    "};\n",
    "\n",
    "// TODO: Declare a class Dog that inherits from Animal\n",
    "\n",
    "int main() {\n",
    "  Dog dog;\n",
    "  assert(dog.Talk() == \"Woof\");\n",
    "}"
   ]
  },
  {
   "cell_type": "markdown",
   "metadata": {
    "graffitiCellId": "id_igmn9j0"
   },
   "source": [
    "<span class=\"graffiti-highlight graffiti-id_igmn9j0-id_fmhuit3\"><i></i><button>Compile & Run</button></span>&nbsp;\n",
    "<span class=\"graffiti-highlight graffiti-id_yrd2bum-id_jmp9y3p\"><i></i><button>Explain</button></span>"
   ]
  },
  {
   "cell_type": "markdown",
   "metadata": {
    "graffitiCellId": "id_5qn6vze",
    "graffitiConfig": {
     "rows": 12,
     "terminalId": "id_5lovenv",
     "type": "terminal"
    }
   },
   "source": [
    "<i>Loading terminal (id_5qn6vze), please wait...</i>"
   ]
  }
 ],
 "metadata": {
  "graffiti": {
   "firstAuthorId": "8802670962",
   "id": "id_lsgs70r",
   "language": "EN"
  },
  "kernelspec": {
   "display_name": "C++17",
   "language": "C++17",
   "name": "xeus-cling-cpp17"
  },
  "language_info": {
   "codemirror_mode": "text/x-c++src",
   "file_extension": ".cpp",
   "mimetype": "text/x-c++src",
   "name": "c++",
   "version": "-std=c++17"
  }
 },
 "nbformat": 4,
 "nbformat_minor": 2
}
