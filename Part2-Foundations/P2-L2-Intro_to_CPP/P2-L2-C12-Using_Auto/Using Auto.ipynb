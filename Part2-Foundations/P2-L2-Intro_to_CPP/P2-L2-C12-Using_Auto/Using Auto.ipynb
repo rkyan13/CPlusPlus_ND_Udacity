{
 "cells": [
  {
   "cell_type": "markdown",
   "metadata": {
    "graffitiCellId": "id_jivhlnf"
   },
   "source": [
    "## Using `auto`\n",
    "\n",
    "In your previous code, the type for each variable was explicitly declared. In general, this is not necessary, and the compiler can determine the type based on the value being assigned. To have the type automatically determined, use the `auto` keyword. You can test this by executing the cell below:"
   ]
  },
  {
   "cell_type": "code",
   "execution_count": null,
   "metadata": {
    "graffitiCellId": "id_gqunxrt",
    "graffitiConfig": {
     "executeCellViaGraffiti": "sncbyc3_2dv9dig"
    }
   },
   "outputs": [],
   "source": [
    "#include <iostream>\n",
    "#include <vector>\n",
    "using std::vector;\n",
    "using std::cout;\n",
    "\n",
    "int main() {\n",
    "    auto i = 5;\n",
    "    auto v_6 = {1, 2, 3};\n",
    "    cout << \"Variables declared and initialized without explicitly stating type!\" << \"\\n\";\n",
    "}"
   ]
  },
  {
   "cell_type": "markdown",
   "metadata": {
    "graffitiCellId": "id_sncbyc3"
   },
   "source": [
    "<span class=\"graffiti-highlight graffiti-id_sncbyc3-id_2dv9dig\"><i></i><button>Run Code</button></span> &nbsp; <span class=\"graffiti-highlight graffiti-id_sncbyc3-id_s5fo69e\"><i></i><button>See Explanation</button></span>"
   ]
  },
  {
   "cell_type": "markdown",
   "metadata": {
    "graffitiCellId": "id_kyiq0u0",
    "graffitiConfig": {
     "rows": 6,
     "terminalId": "id_kyiq0u0",
     "type": "terminal"
    }
   },
   "source": [
    "<i>Loading terminal (id_kyiq0u0), please wait...</i>"
   ]
  },
  {
   "cell_type": "markdown",
   "metadata": {
    "graffitiCellId": "id_3uyhatw"
   },
   "source": [
    "It is helpful to manually declare the type of a variable if you want the variable type to be clear for reader of your code, or if you want to be explicit about the number precision being used; C++ has several number types with different levels of precision, and this precision might not be clear from the value being assigned.\n",
    "\n",
    "### Practice\n",
    "\n",
    "Practice using `auto` to declare and initialize a vector `v` with the value `{7, 8, 9, 10}`. If you have trouble, **click here** for help."
   ]
  },
  {
   "cell_type": "code",
   "execution_count": null,
   "metadata": {
    "graffitiCellId": "id_mea01kd",
    "graffitiConfig": {
     "executeCellViaGraffiti": "0kha04l_0o02q6z"
    }
   },
   "outputs": [],
   "source": [
    "#include <iostream>\n",
    "#include <vector>\n",
    "using std::vector;\n",
    "using std::cout;\n",
    "\n",
    "int main() {\n",
    "    // Declare and initialize v using auto here.\n",
    "\n",
    "}"
   ]
  },
  {
   "cell_type": "markdown",
   "metadata": {
    "graffitiCellId": "id_0kha04l"
   },
   "source": [
    "<span class=\"graffiti-highlight graffiti-id_0kha04l-id_0o02q6z\"><i></i><button>Run Code</button></span> &nbsp; <span class=\"graffiti-highlight graffiti-id_0kha04l-id_6qrmocd\"><i></i><button>Show Solution</button></span>"
   ]
  },
  {
   "cell_type": "markdown",
   "metadata": {
    "graffitiCellId": "id_bcpm0a9",
    "graffitiConfig": {
     "rows": 6,
     "terminalId": "id_bcpm0a9",
     "type": "terminal"
    }
   },
   "source": [
    "<i>Loading terminal (id_bcpm0a9), please wait...</i>"
   ]
  }
 ],
 "metadata": {
  "graffiti": {
   "firstAuthorId": "813558546",
   "id": "id_ngrn6v8",
   "language": "EN"
  },
  "kernelspec": {
   "display_name": "C++17",
   "language": "C++17",
   "name": "xeus-cling-cpp17"
  },
  "language_info": {
   "codemirror_mode": "text/x-c++src",
   "file_extension": ".cpp",
   "mimetype": "text/x-c++src",
   "name": "c++",
   "version": "-std=c++17"
  }
 },
 "nbformat": 4,
 "nbformat_minor": 2
}
